{
 "cells": [
  {
   "cell_type": "markdown",
   "metadata": {},
   "source": [
    "\n",
    "## Tables 1 and 2 show the perfomance of two tank filling system. Choose one based in which one has the lowest error in comparasion with their fitted line."
   ]
  },
  {
   "cell_type": "code",
   "execution_count": 65,
   "metadata": {},
   "outputs": [
    {
     "name": "stdout",
     "output_type": "stream",
     "text": [
      "Chose one \n",
      " 1.- Calculate \n",
      " 2.- Comparate \n",
      "2\n",
      "Introduce the data size: 5\n",
      "\n",
      " table 1\n",
      "Introduce the value of time1: 0\n",
      "Introduce the value of volume1: 0\n",
      "Introduce the value of time2: 50\n",
      "Introduce the value of volume2: 5.8\n",
      "Introduce the value of time3: 100\n",
      "Introduce the value of volume3: 11.9\n",
      "Introduce the value of time4: 150\n",
      "Introduce the value of volume4: 16.7\n",
      "Introduce the value of time5: 200\n",
      "Introduce the value of volume5: 23.8\n",
      "The Linear Regression in table 1 is : 58.44\n",
      "\n",
      " Table 2\n",
      "Introduce de data size :5\n",
      "Introduce the value of time1: 0\n",
      "Introduce the value of volume1: 0\n",
      "Introduce the value of time2: 50\n",
      "Introduce the value of volume2: 4.4\n",
      "Introduce the value of time3: 100\n",
      "Introduce the value of volume3: 8.5\n",
      "Introduce the value of time4: 150\n",
      "Introduce the value of volume4: 13.5\n",
      "Introduce the value of time5: 200\n",
      "Introduce the value of volume5: 17.\n",
      "The Linear Regression in table 2 is : 43.160000000000004\n",
      "\n",
      "The table 2 has the lowest error  43.160000000000004\n"
     ]
    }
   ],
   "source": [
    "option=int(input(\"Chose one \\n 1.- Calculate \\n 2.- Comparate \\n\"))\n",
    "sumx=0\n",
    "sumy=0\n",
    "sumxy=0 ## declaro mis variables en cero\n",
    "sum2=0\n",
    "sumx2=0\n",
    "sumy2=0\n",
    "sumxy2=0\n",
    "sum22=0\n",
    "sumx3=0\n",
    "sumy3=0\n",
    "sumxy3=0\n",
    "sumx23=0\n",
    "\n",
    "n=int(input(\"Introduce the data size: \")) ##el tamaño de la muestra que usare\n",
    "\n",
    "\n",
    "if option== 2: ## use esta condicion para comparar las dos ya que me pide encontrar el error mas bajo usando las dos tablas\n",
    "     while (option==2): ## mientras sea 2 se ejecutaran las lineas de abajo con base a la tabla 1\n",
    "        print(\"\\n table 1\")\n",
    "        for i in range(0,n):\n",
    "                x=float(input(f\"Introduce the value of time{i+1}: \"))\n",
    "                y=float(input(f\"Introduce the value of volume{i+1}: \"))\n",
    "                sumx+=x\n",
    "                sumy+=y\n",
    "                sumxy+=x*y\n",
    "                sum2+=x**2\n",
    "        b1=(n*sumxy - sumx*sumy)/(n*sum2 - sumx**2)\n",
    "        b0=(sumy - b1*sumx)/n\n",
    "        rg=b0+(b1*sumx)\n",
    "        print(\"The Linear Regression in table 1 is :\",rg)\n",
    "        \n",
    "        print(\"\\n Table 2\") ## aqui comineza la tabla 2 \n",
    "        m=int(input(\"Introduce de data size :\"))\n",
    "        for t in range(0,n):\n",
    "                x1=float(input(f\"Introduce the value of time{t+1}: \"))\n",
    "                y1=float(input(f\"Introduce the value of volume{t+1}: \"))\n",
    "                sumx2+=x1\n",
    "                sumy2+=y1\n",
    "                sumxy2+=x1*y1\n",
    "                sum22+=x1**2\n",
    "        b12=(m*sumxy2 - sumx2*sumy2)/(m*sum22 - sumx2**2)\n",
    "        b02=(sumy2 - b12*sumx2)/m\n",
    "        rg2=b02+(b12*sumx2)\n",
    "        print(\"The Linear Regression in table 2 is :\",rg2)  \n",
    "        option=option-option\n",
    "        \n",
    "     if rg<rg2:\n",
    "        print(\"\\nThe table 1 has the lowest error \",rg)\n",
    "     else:\n",
    "         print(\"\\nThe table 2 has the lowest error \",rg2)\n",
    "else: ## en caso de que quiera saber solo una regresion uso la opcion 1     \n",
    "    for w in range (0,n):\n",
    "        x2=float(input(f\"\\nIntroduce the value of x{w+1}: \"))\n",
    "        y2=float(input(f\"\\nIntroduce the value of y{w+1}: \"))\n",
    "        sumx3+=x2\n",
    "        sumy3+=y2\n",
    "        sumxy3+=x2*y2\n",
    "        sumx23+=x2*2\n",
    "    b11=(n*sumxy3 - sumx3*sumy3)/(n*sumx23 - sumx3**2)\n",
    "    b01=(sumy3 - b11*sumx3)/n\n",
    "    rg3=b01+(b11*sumx3)\n",
    "    print(\"The linear Regression is :\",rg3)"
   ]
  },
  {
   "cell_type": "code",
   "execution_count": null,
   "metadata": {},
   "outputs": [],
   "source": []
  },
  {
   "cell_type": "markdown",
   "metadata": {},
   "source": [
    "## "
   ]
  },
  {
   "cell_type": "code",
   "execution_count": null,
   "metadata": {},
   "outputs": [],
   "source": []
  }
 ],
 "metadata": {
  "kernelspec": {
   "display_name": "Python 3",
   "language": "python",
   "name": "python3"
  },
  "language_info": {
   "codemirror_mode": {
    "name": "ipython",
    "version": 3
   },
   "file_extension": ".py",
   "mimetype": "text/x-python",
   "name": "python",
   "nbconvert_exporter": "python",
   "pygments_lexer": "ipython3",
   "version": "3.7.4"
  }
 },
 "nbformat": 4,
 "nbformat_minor": 2
}
